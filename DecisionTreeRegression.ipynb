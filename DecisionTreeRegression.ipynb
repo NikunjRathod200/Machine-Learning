{
  "nbformat": 4,
  "nbformat_minor": 0,
  "metadata": {
    "colab": {
      "name": "DecisionTreeRegression.ipynb",
      "provenance": [],
      "collapsed_sections": [],
      "authorship_tag": "ABX9TyNV55zjB9lFA7UzvqFzMbC7",
      "include_colab_link": true
    },
    "kernelspec": {
      "name": "python3",
      "display_name": "Python 3"
    },
    "language_info": {
      "name": "python"
    }
  },
  "cells": [
    {
      "cell_type": "markdown",
      "metadata": {
        "id": "view-in-github",
        "colab_type": "text"
      },
      "source": [
        "<a href=\"https://colab.research.google.com/github/NikunjRathod200/Machine-Learning/blob/main/DecisionTreeRegression.ipynb\" target=\"_parent\"><img src=\"https://colab.research.google.com/assets/colab-badge.svg\" alt=\"Open In Colab\"/></a>"
      ]
    },
    {
      "cell_type": "code",
      "execution_count": 10,
      "metadata": {
        "id": "mF83uckqRPEJ"
      },
      "outputs": [],
      "source": [
        "import pandas as pd\n",
        "import numpy as np"
      ]
    },
    {
      "cell_type": "code",
      "source": [
        "df = pd.read_csv(\"https://raw.githubusercontent.com/YBI-Foundation/Dataset/main/Boston.csv\")"
      ],
      "metadata": {
        "id": "NyTzXnLeRgN2"
      },
      "execution_count": 11,
      "outputs": []
    },
    {
      "cell_type": "code",
      "source": [
        "df.info()"
      ],
      "metadata": {
        "colab": {
          "base_uri": "https://localhost:8080/"
        },
        "id": "zefnRzu0R6mQ",
        "outputId": "f2937901-f8b1-473b-ae74-80b58ea5370c"
      },
      "execution_count": 12,
      "outputs": [
        {
          "output_type": "stream",
          "name": "stdout",
          "text": [
            "<class 'pandas.core.frame.DataFrame'>\n",
            "RangeIndex: 506 entries, 0 to 505\n",
            "Data columns (total 14 columns):\n",
            " #   Column   Non-Null Count  Dtype  \n",
            "---  ------   --------------  -----  \n",
            " 0   CRIM     506 non-null    float64\n",
            " 1   ZN       506 non-null    float64\n",
            " 2   INDUS    506 non-null    float64\n",
            " 3   CHAS     506 non-null    int64  \n",
            " 4   NX       506 non-null    float64\n",
            " 5   RM       506 non-null    float64\n",
            " 6   AGE      506 non-null    float64\n",
            " 7   DIS      506 non-null    float64\n",
            " 8   RAD      506 non-null    int64  \n",
            " 9   TAX      506 non-null    float64\n",
            " 10  PTRATIO  506 non-null    float64\n",
            " 11  B        506 non-null    float64\n",
            " 12  LSTAT    506 non-null    float64\n",
            " 13  MEDV     506 non-null    float64\n",
            "dtypes: float64(12), int64(2)\n",
            "memory usage: 55.5 KB\n"
          ]
        }
      ]
    },
    {
      "cell_type": "code",
      "source": [
        "df.columns"
      ],
      "metadata": {
        "colab": {
          "base_uri": "https://localhost:8080/"
        },
        "id": "n0HIrdGyR72S",
        "outputId": "e97ae3d0-a96f-4693-facb-c554da74b264"
      },
      "execution_count": 13,
      "outputs": [
        {
          "output_type": "execute_result",
          "data": {
            "text/plain": [
              "Index(['CRIM', 'ZN', 'INDUS', 'CHAS', 'NX', 'RM', 'AGE', 'DIS', 'RAD', 'TAX',\n",
              "       'PTRATIO', 'B', 'LSTAT', 'MEDV'],\n",
              "      dtype='object')"
            ]
          },
          "metadata": {},
          "execution_count": 13
        }
      ]
    },
    {
      "cell_type": "code",
      "source": [
        "X = df[['CRIM', 'ZN', 'INDUS', 'CHAS', 'NX', 'RM', 'AGE', 'DIS', 'RAD', 'TAX',\n",
        "       'PTRATIO', 'B', 'LSTAT']]"
      ],
      "metadata": {
        "id": "yQZWh54LR_H0"
      },
      "execution_count": 14,
      "outputs": []
    },
    {
      "cell_type": "code",
      "source": [
        "y=df['MEDV']"
      ],
      "metadata": {
        "id": "tHPe7mqoSCsm"
      },
      "execution_count": 15,
      "outputs": []
    },
    {
      "cell_type": "code",
      "source": [
        "X.shape"
      ],
      "metadata": {
        "colab": {
          "base_uri": "https://localhost:8080/"
        },
        "id": "WwNuIw1mSIuf",
        "outputId": "97fd4952-a8a7-456c-ee4e-277e8efbe89b"
      },
      "execution_count": 16,
      "outputs": [
        {
          "output_type": "execute_result",
          "data": {
            "text/plain": [
              "(506, 13)"
            ]
          },
          "metadata": {},
          "execution_count": 16
        }
      ]
    },
    {
      "cell_type": "code",
      "source": [
        "y.shape"
      ],
      "metadata": {
        "colab": {
          "base_uri": "https://localhost:8080/"
        },
        "id": "_thbeHinSJ2l",
        "outputId": "19d570cd-7e06-408c-9583-a19745442cc3"
      },
      "execution_count": 17,
      "outputs": [
        {
          "output_type": "execute_result",
          "data": {
            "text/plain": [
              "(506,)"
            ]
          },
          "metadata": {},
          "execution_count": 17
        }
      ]
    },
    {
      "cell_type": "code",
      "source": [
        "from sklearn.model_selection import train_test_split as tts"
      ],
      "metadata": {
        "id": "z0R3E2tYSKSk"
      },
      "execution_count": 18,
      "outputs": []
    },
    {
      "cell_type": "code",
      "source": [
        "X_train, X_test, y_train, y_test = tts(X,y, train_size= 0.3, random_state =2529)"
      ],
      "metadata": {
        "id": "UIgL4iBxSXvZ"
      },
      "execution_count": 19,
      "outputs": []
    },
    {
      "cell_type": "code",
      "source": [
        "from sklearn.tree import DecisionTreeRegressor, plot_tree"
      ],
      "metadata": {
        "id": "PTCVoYhrSd-1"
      },
      "execution_count": 20,
      "outputs": []
    },
    {
      "cell_type": "code",
      "source": [
        "dtr = DecisionTreeRegressor(max_depth =3)"
      ],
      "metadata": {
        "id": "jboXwDnmSp-N"
      },
      "execution_count": 21,
      "outputs": []
    },
    {
      "cell_type": "code",
      "source": [
        "dtr.fit(X_train,y_train)"
      ],
      "metadata": {
        "colab": {
          "base_uri": "https://localhost:8080/"
        },
        "id": "sVWesCsiSsoI",
        "outputId": "f2a7890f-4e89-481b-87d2-c8a7ce945cd2"
      },
      "execution_count": 22,
      "outputs": [
        {
          "output_type": "execute_result",
          "data": {
            "text/plain": [
              "DecisionTreeRegressor(max_depth=3)"
            ]
          },
          "metadata": {},
          "execution_count": 22
        }
      ]
    },
    {
      "cell_type": "code",
      "source": [
        "y_pred = dtr.predict(X_test)"
      ],
      "metadata": {
        "id": "4yGtFraLSvgV"
      },
      "execution_count": 23,
      "outputs": []
    },
    {
      "cell_type": "code",
      "source": [
        "y_pred"
      ],
      "metadata": {
        "colab": {
          "base_uri": "https://localhost:8080/"
        },
        "id": "KXlQ_WayS3XW",
        "outputId": "1f751dbc-40c9-4f84-a84f-1756a2314c74"
      },
      "execution_count": 24,
      "outputs": [
        {
          "output_type": "execute_result",
          "data": {
            "text/plain": [
              "array([44.84444444, 19.50545455, 19.50545455, 44.84444444, 24.26666667,\n",
              "       19.50545455, 19.50545455, 19.50545455, 23.60769231, 19.50545455,\n",
              "       19.50545455, 29.685     , 24.26666667, 10.87741935, 10.87741935,\n",
              "       23.60769231, 24.26666667, 23.60769231, 19.50545455, 29.685     ,\n",
              "       24.26666667, 10.87741935, 19.50545455, 19.50545455, 23.60769231,\n",
              "       19.50545455, 19.50545455, 19.50545455, 23.60769231, 19.50545455,\n",
              "       17.95      , 19.50545455, 19.50545455, 24.26666667, 44.84444444,\n",
              "       23.60769231, 44.84444444, 24.26666667, 29.685     , 24.26666667,\n",
              "       19.50545455, 24.26666667, 10.87741935, 19.50545455, 19.50545455,\n",
              "       17.95      , 17.95      , 10.87741935, 19.50545455, 19.50545455,\n",
              "       24.26666667, 29.685     , 19.50545455, 24.26666667, 24.26666667,\n",
              "       10.87741935, 29.685     , 19.50545455, 24.26666667, 24.26666667,\n",
              "       44.84444444, 19.50545455, 19.50545455, 24.26666667, 24.26666667,\n",
              "       29.685     , 10.87741935, 29.685     , 19.50545455, 17.95      ,\n",
              "       10.87741935, 19.50545455, 44.84444444, 19.50545455, 19.50545455,\n",
              "       24.26666667, 29.685     , 23.60769231, 10.87741935, 19.50545455,\n",
              "       24.26666667, 19.50545455, 19.50545455, 24.26666667, 29.685     ,\n",
              "       17.95      , 10.87741935, 19.50545455, 10.87741935, 10.87741935,\n",
              "       10.87741935, 19.50545455, 10.87741935, 10.87741935, 19.50545455,\n",
              "       10.87741935, 23.60769231, 44.84444444, 29.685     , 24.26666667,\n",
              "       19.50545455, 10.87741935, 19.50545455, 19.50545455, 24.26666667,\n",
              "       24.26666667, 19.50545455, 19.50545455, 19.50545455, 19.50545455,\n",
              "       29.685     , 19.50545455, 19.50545455, 19.50545455, 19.50545455,\n",
              "       29.685     , 23.60769231, 23.60769231, 24.26666667, 23.60769231,\n",
              "       19.50545455, 10.87741935, 23.60769231, 29.685     , 19.50545455,\n",
              "       24.26666667, 17.95      , 19.50545455, 29.85      , 29.685     ,\n",
              "       24.26666667, 23.60769231, 23.60769231, 10.87741935, 19.50545455,\n",
              "       19.50545455, 19.50545455, 19.50545455, 19.50545455, 24.26666667,\n",
              "       23.60769231, 19.50545455, 19.50545455, 44.84444444, 24.26666667,\n",
              "       29.685     , 17.95      , 19.50545455, 44.84444444, 24.26666667,\n",
              "       24.26666667, 23.60769231, 19.50545455, 29.85      , 24.26666667,\n",
              "       19.50545455, 29.685     , 19.50545455, 10.87741935, 19.50545455,\n",
              "       10.87741935, 10.87741935, 44.84444444, 10.87741935, 24.26666667,\n",
              "       29.685     , 10.87741935, 29.685     , 24.26666667, 19.50545455,\n",
              "       19.50545455, 10.87741935, 17.95      , 19.50545455, 44.84444444,\n",
              "       24.26666667, 29.685     , 29.685     , 19.50545455, 29.685     ,\n",
              "       29.685     , 10.87741935, 29.685     , 19.50545455, 17.95      ,\n",
              "       24.26666667, 19.50545455, 19.50545455, 29.685     , 10.87741935,\n",
              "       19.50545455, 19.50545455, 19.50545455, 23.60769231, 44.84444444,\n",
              "       23.60769231, 19.50545455, 29.685     , 29.685     , 19.50545455,\n",
              "       29.685     , 24.26666667, 19.50545455, 24.26666667, 24.26666667,\n",
              "       19.50545455, 24.26666667, 23.60769231, 10.87741935, 10.87741935,\n",
              "       29.685     , 23.60769231, 19.50545455, 19.50545455, 10.87741935,\n",
              "       24.26666667, 44.84444444, 19.50545455, 10.87741935, 19.50545455,\n",
              "       23.60769231, 24.26666667, 19.50545455, 29.685     , 19.50545455,\n",
              "       24.26666667, 19.50545455, 19.50545455, 19.50545455, 44.84444444,\n",
              "       29.685     , 10.87741935, 29.685     , 19.50545455, 29.685     ,\n",
              "       23.60769231, 19.50545455, 44.84444444, 29.685     , 29.685     ,\n",
              "       19.50545455, 19.50545455, 10.87741935, 44.84444444, 19.50545455,\n",
              "       44.84444444, 19.50545455, 29.685     , 44.84444444, 19.50545455,\n",
              "       23.60769231, 23.60769231, 10.87741935, 24.26666667, 19.50545455,\n",
              "       10.87741935, 29.685     , 19.50545455, 29.685     , 44.84444444,\n",
              "       10.87741935, 19.50545455, 23.60769231, 19.50545455, 10.87741935,\n",
              "       44.84444444, 10.87741935, 24.26666667, 19.50545455, 44.84444444,\n",
              "       19.50545455, 19.50545455, 10.87741935, 29.685     , 19.50545455,\n",
              "       19.50545455, 10.87741935, 10.87741935, 23.60769231, 10.87741935,\n",
              "       44.84444444, 23.60769231, 10.87741935, 24.26666667, 19.50545455,\n",
              "       10.87741935, 10.87741935, 10.87741935, 23.60769231, 19.50545455,\n",
              "       19.50545455, 19.50545455, 44.84444444, 19.50545455, 23.60769231,\n",
              "       23.60769231, 19.50545455, 19.50545455, 24.26666667, 23.60769231,\n",
              "       24.26666667, 24.26666667, 10.87741935, 29.685     , 29.685     ,\n",
              "       10.87741935, 29.685     , 19.50545455, 23.60769231, 23.60769231,\n",
              "       10.87741935, 24.26666667, 19.50545455, 29.685     , 10.87741935,\n",
              "       44.84444444, 19.50545455, 29.685     , 24.26666667, 24.26666667,\n",
              "       24.26666667, 17.95      , 23.60769231, 24.26666667, 29.85      ,\n",
              "       10.87741935, 44.84444444, 10.87741935, 29.685     , 24.26666667,\n",
              "       19.50545455, 24.26666667, 29.685     , 19.50545455, 19.50545455,\n",
              "       29.685     , 29.685     , 23.60769231, 24.26666667, 24.26666667,\n",
              "       24.26666667, 19.50545455, 23.60769231, 19.50545455, 24.26666667,\n",
              "       19.50545455, 19.50545455, 10.87741935, 24.26666667, 29.685     ,\n",
              "       19.50545455, 19.50545455, 24.26666667, 19.50545455, 19.50545455])"
            ]
          },
          "metadata": {},
          "execution_count": 24
        }
      ]
    },
    {
      "cell_type": "code",
      "source": [
        "from sklearn.metrics import mean_absolute_percentage_error"
      ],
      "metadata": {
        "id": "oX4mA8JjS6rH"
      },
      "execution_count": 25,
      "outputs": []
    },
    {
      "cell_type": "code",
      "source": [
        "mean_absolute_percentage_error(y_test,y_pred)"
      ],
      "metadata": {
        "colab": {
          "base_uri": "https://localhost:8080/"
        },
        "id": "LOEOEnuwS_Jb",
        "outputId": "2bdb4916-16e3-4e2c-f5fc-d2576a2891d6"
      },
      "execution_count": 26,
      "outputs": [
        {
          "output_type": "execute_result",
          "data": {
            "text/plain": [
              "0.187865356807897"
            ]
          },
          "metadata": {},
          "execution_count": 26
        }
      ]
    },
    {
      "cell_type": "code",
      "source": [
        "plot_tree(dtr);"
      ],
      "metadata": {
        "colab": {
          "base_uri": "https://localhost:8080/",
          "height": 248
        },
        "id": "c4oUVOH0THUH",
        "outputId": "ebf1d5eb-7069-4b22-be39-62b5989fb712"
      },
      "execution_count": 27,
      "outputs": [
        {
          "output_type": "display_data",
          "data": {
            "text/plain": [
              "<Figure size 432x288 with 1 Axes>"
            ],
            "image/png": "[encoded data removed]"
          },
          "metadata": {
            "needs_background": "light"
          }
        }
      ]
    },
    {
      "cell_type": "code",
      "source": [
        "from sklearn.ensemble import RandomForestRegressor"
      ],
      "metadata": {
        "id": "9b8k63rrTWWX"
      },
      "execution_count": 31,
      "outputs": []
    },
    {
      "cell_type": "code",
      "source": [
        "rf = RandomForestRegressor(n_estimators=200)"
      ],
      "metadata": {
        "id": "knZRhH5zkYwp"
      },
      "execution_count": 37,
      "outputs": []
    },
    {
      "cell_type": "code",
      "source": [
        "rf.fit(X_train,y_train)"
      ],
      "metadata": {
        "colab": {
          "base_uri": "https://localhost:8080/"
        },
        "id": "5b64_bRhke7K",
        "outputId": "6ab47cf0-3ef8-49da-da7f-af31a9f80c7e"
      },
      "execution_count": 38,
      "outputs": [
        {
          "output_type": "execute_result",
          "data": {
            "text/plain": [
              "RandomForestRegressor(n_estimators=200)"
            ]
          },
          "metadata": {},
          "execution_count": 38
        }
      ]
    },
    {
      "cell_type": "code",
      "source": [
        "y_pred = rf.predict(X_test)"
      ],
      "metadata": {
        "id": "8Ej43VQkkg8L"
      },
      "execution_count": 39,
      "outputs": []
    },
    {
      "cell_type": "code",
      "source": [
        "from sklearn.metrics import mean_absolute_percentage_error"
      ],
      "metadata": {
        "id": "IW0VqCFVk1tR"
      },
      "execution_count": 40,
      "outputs": []
    },
    {
      "cell_type": "code",
      "source": [
        "mean_absolute_percentage_error(y_test,y_pred)"
      ],
      "metadata": {
        "colab": {
          "base_uri": "https://localhost:8080/"
        },
        "id": "7Svb0zujk4ee",
        "outputId": "b9afe721-8713-4f31-bee0-6d37bb92c01c"
      },
      "execution_count": 41,
      "outputs": [
        {
          "output_type": "execute_result",
          "data": {
            "text/plain": [
              "0.12024707014883011"
            ]
          },
          "metadata": {},
          "execution_count": 41
        }
      ]
    }
  ]
}