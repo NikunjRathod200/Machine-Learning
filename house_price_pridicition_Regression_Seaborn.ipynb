{
  "nbformat": 4,
  "nbformat_minor": 0,
  "metadata": {
    "colab": {
      "name": "house price pridicition Regression-Seaborn.ipynb",
      "provenance": [],
      "authorship_tag": "ABX9TyPLUn93fWhhs0HTZozPvmiP",
      "include_colab_link": true
    },
    "kernelspec": {
      "name": "python3",
      "display_name": "Python 3"
    },
    "language_info": {
      "name": "python"
    }
  },
  "cells": [
    {
      "cell_type": "markdown",
      "metadata": {
        "id": "view-in-github",
        "colab_type": "text"
      },
      "source": [
        "<a href=\"https://colab.research.google.com/github/NikunjRathod200/Machine-Learning/blob/main/house_price_pridicition_Regression_Seaborn.ipynb\" target=\"_parent\"><img src=\"https://colab.research.google.com/assets/colab-badge.svg\" alt=\"Open In Colab\"/></a>"
      ]
    },
    {
      "cell_type": "markdown",
      "source": [
        "Regression"
      ],
      "metadata": {
        "id": "DF7Rr379C1S0"
      }
    },
    {
      "cell_type": "code",
      "execution_count": null,
      "metadata": {
        "id": "BPkL9RW8CveX"
      },
      "outputs": [],
      "source": [
        "import pandas as pd"
      ]
    },
    {
      "cell_type": "code",
      "source": [
        "housedata= pd.read_csv(\"https://raw.githubusercontent.com/YBI-Foundation/Dataset/main/House%20Prices.csv\")"
      ],
      "metadata": {
        "id": "ntAC0rxYC9zd"
      },
      "execution_count": null,
      "outputs": []
    },
    {
      "cell_type": "code",
      "source": [
        "housedata.head()"
      ],
      "metadata": {
        "colab": {
          "base_uri": "https://localhost:8080/",
          "height": 300
        },
        "id": "YA71eLuZDLBj",
        "outputId": "ba1aee5d-74dd-4079-b230-a6e9e8aa78d9"
      },
      "execution_count": null,
      "outputs": [
        {
          "output_type": "execute_result",
          "data": {
            "text/plain": [
              "   ID             Date     Price  Bedrooms  Bathrooms  Sqft_living  Sqft_lot  \\\n",
              "0   1  20140916T000000  280000.0         6       3.00         2400      9373   \n",
              "1   2  20150422T000000  300000.0         6       3.00         2400      9373   \n",
              "2   3  20140508T000000  647500.0         4       1.75         2060     26036   \n",
              "3   4  20140811T000000  400000.0         3       1.00         1460     43000   \n",
              "4   5  20150401T000000  235000.0         3       1.00         1430      7599   \n",
              "\n",
              "   Floors  Waterfront  View  ...  Grade  Sqft_above  Sqft_basement  Yr_built  \\\n",
              "0     2.0           0     0  ...      7        2400              0      1991   \n",
              "1     2.0           0     0  ...      7        2400              0      1991   \n",
              "2     1.0           0     0  ...      8        1160            900      1947   \n",
              "3     1.0           0     0  ...      7        1460              0      1952   \n",
              "4     1.5           0     0  ...      6        1010            420      1930   \n",
              "\n",
              "   Yr_renovated  zipcode      Lat     Long  Sqft_living15  Sqft_lot15  \n",
              "0             0    98002  47.3262 -122.214           2060        7316  \n",
              "1             0    98002  47.3262 -122.214           2060        7316  \n",
              "2             0    98166  47.4444 -122.351           2590       21891  \n",
              "3             0    98166  47.4434 -122.347           2250       20023  \n",
              "4             0    98168  47.4783 -122.265           1290       10320  \n",
              "\n",
              "[5 rows x 21 columns]"
            ],
            "text/html": [
              "\n",
              "  <div id=\"df-041db741-8039-4f64-9f46-4d0d39652160\">\n",
              "    <div class=\"colab-df-container\">\n",
              "      <div>\n",
              "<style scoped>\n",
              "    .dataframe tbody tr th:only-of-type {\n",
              "        vertical-align: middle;\n",
              "    }\n",
              "\n",
              "    .dataframe tbody tr th {\n",
              "        vertical-align: top;\n",
              "    }\n",
              "\n",
              "    .dataframe thead th {\n",
              "        text-align: right;\n",
              "    }\n",
              "</style>\n",
              "<table border=\"1\" class=\"dataframe\">\n",
              "  <thead>\n",
              "    <tr style=\"text-align: right;\">\n",
              "      <th></th>\n",
              "      <th>ID</th>\n",
              "      <th>Date</th>\n",
              "      <th>Price</th>\n",
              "      <th>Bedrooms</th>\n",
              "      <th>Bathrooms</th>\n",
              "      <th>Sqft_living</th>\n",
              "      <th>Sqft_lot</th>\n",
              "      <th>Floors</th>\n",
              "      <th>Waterfront</th>\n",
              "      <th>View</th>\n",
              "      <th>...</th>\n",
              "      <th>Grade</th>\n",
              "      <th>Sqft_above</th>\n",
              "      <th>Sqft_basement</th>\n",
              "      <th>Yr_built</th>\n",
              "      <th>Yr_renovated</th>\n",
              "      <th>zipcode</th>\n",
              "      <th>Lat</th>\n",
              "      <th>Long</th>\n",
              "      <th>Sqft_living15</th>\n",
              "      <th>Sqft_lot15</th>\n",
              "    </tr>\n",
              "  </thead>\n",
              "  <tbody>\n",
              "    <tr>\n",
              "      <th>0</th>\n",
              "      <td>1</td>\n",
              "      <td>20140916T000000</td>\n",
              "      <td>280000.0</td>\n",
              "      <td>6</td>\n",
              "      <td>3.00</td>\n",
              "      <td>2400</td>\n",
              "      <td>9373</td>\n",
              "      <td>2.0</td>\n",
              "      <td>0</td>\n",
              "      <td>0</td>\n",
              "      <td>...</td>\n",
              "      <td>7</td>\n",
              "      <td>2400</td>\n",
              "      <td>0</td>\n",
              "      <td>1991</td>\n",
              "      <td>0</td>\n",
              "      <td>98002</td>\n",
              "      <td>47.3262</td>\n",
              "      <td>-122.214</td>\n",
              "      <td>2060</td>\n",
              "      <td>7316</td>\n",
              "    </tr>\n",
              "    <tr>\n",
              "      <th>1</th>\n",
              "      <td>2</td>\n",
              "      <td>20150422T000000</td>\n",
              "      <td>300000.0</td>\n",
              "      <td>6</td>\n",
              "      <td>3.00</td>\n",
              "      <td>2400</td>\n",
              "      <td>9373</td>\n",
              "      <td>2.0</td>\n",
              "      <td>0</td>\n",
              "      <td>0</td>\n",
              "      <td>...</td>\n",
              "      <td>7</td>\n",
              "      <td>2400</td>\n",
              "      <td>0</td>\n",
              "      <td>1991</td>\n",
              "      <td>0</td>\n",
              "      <td>98002</td>\n",
              "      <td>47.3262</td>\n",
              "      <td>-122.214</td>\n",
              "      <td>2060</td>\n",
              "      <td>7316</td>\n",
              "    </tr>\n",
              "    <tr>\n",
              "      <th>2</th>\n",
              "      <td>3</td>\n",
              "      <td>20140508T000000</td>\n",
              "      <td>647500.0</td>\n",
              "      <td>4</td>\n",
              "      <td>1.75</td>\n",
              "      <td>2060</td>\n",
              "      <td>26036</td>\n",
              "      <td>1.0</td>\n",
              "      <td>0</td>\n",
              "      <td>0</td>\n",
              "      <td>...</td>\n",
              "      <td>8</td>\n",
              "      <td>1160</td>\n",
              "      <td>900</td>\n",
              "      <td>1947</td>\n",
              "      <td>0</td>\n",
              "      <td>98166</td>\n",
              "      <td>47.4444</td>\n",
              "      <td>-122.351</td>\n",
              "      <td>2590</td>\n",
              "      <td>21891</td>\n",
              "    </tr>\n",
              "    <tr>\n",
              "      <th>3</th>\n",
              "      <td>4</td>\n",
              "      <td>20140811T000000</td>\n",
              "      <td>400000.0</td>\n",
              "      <td>3</td>\n",
              "      <td>1.00</td>\n",
              "      <td>1460</td>\n",
              "      <td>43000</td>\n",
              "      <td>1.0</td>\n",
              "      <td>0</td>\n",
              "      <td>0</td>\n",
              "      <td>...</td>\n",
              "      <td>7</td>\n",
              "      <td>1460</td>\n",
              "      <td>0</td>\n",
              "      <td>1952</td>\n",
              "      <td>0</td>\n",
              "      <td>98166</td>\n",
              "      <td>47.4434</td>\n",
              "      <td>-122.347</td>\n",
              "      <td>2250</td>\n",
              "      <td>20023</td>\n",
              "    </tr>\n",
              "    <tr>\n",
              "      <th>4</th>\n",
              "      <td>5</td>\n",
              "      <td>20150401T000000</td>\n",
              "      <td>235000.0</td>\n",
              "      <td>3</td>\n",
              "      <td>1.00</td>\n",
              "      <td>1430</td>\n",
              "      <td>7599</td>\n",
              "      <td>1.5</td>\n",
              "      <td>0</td>\n",
              "      <td>0</td>\n",
              "      <td>...</td>\n",
              "      <td>6</td>\n",
              "      <td>1010</td>\n",
              "      <td>420</td>\n",
              "      <td>1930</td>\n",
              "      <td>0</td>\n",
              "      <td>98168</td>\n",
              "      <td>47.4783</td>\n",
              "      <td>-122.265</td>\n",
              "      <td>1290</td>\n",
              "      <td>10320</td>\n",
              "    </tr>\n",
              "  </tbody>\n",
              "</table>\n",
              "<p>5 rows × 21 columns</p>\n",
              "</div>\n",
              "      <button class=\"colab-df-convert\" onclick=\"convertToInteractive('df-041db741-8039-4f64-9f46-4d0d39652160')\"\n",
              "              title=\"Convert this dataframe to an interactive table.\"\n",
              "              style=\"display:none;\">\n",
              "        \n",
              "  <svg xmlns=\"http://www.w3.org/2000/svg\" height=\"24px\"viewBox=\"0 0 24 24\"\n",
              "       width=\"24px\">\n",
              "    <path d=\"M0 0h24v24H0V0z\" fill=\"none\"/>\n",
              "    <path d=\"M18.56 5.44l.94 2.06.94-2.06 2.06-.94-2.06-.94-.94-2.06-.94 2.06-2.06.94zm-11 1L8.5 8.5l.94-2.06 2.06-.94-2.06-.94L8.5 2.5l-.94 2.06-2.06.94zm10 10l.94 2.06.94-2.06 2.06-.94-2.06-.94-.94-2.06-.94 2.06-2.06.94z\"/><path d=\"M17.41 7.96l-1.37-1.37c-.4-.4-.92-.59-1.43-.59-.52 0-1.04.2-1.43.59L10.3 9.45l-7.72 7.72c-.78.78-.78 2.05 0 2.83L4 21.41c.39.39.9.59 1.41.59.51 0 1.02-.2 1.41-.59l7.78-7.78 2.81-2.81c.8-.78.8-2.07 0-2.86zM5.41 20L4 18.59l7.72-7.72 1.47 1.35L5.41 20z\"/>\n",
              "  </svg>\n",
              "      </button>\n",
              "      \n",
              "  <style>\n",
              "    .colab-df-container {\n",
              "      display:flex;\n",
              "      flex-wrap:wrap;\n",
              "      gap: 12px;\n",
              "    }\n",
              "\n",
              "    .colab-df-convert {\n",
              "      background-color: #E8F0FE;\n",
              "      border: none;\n",
              "      border-radius: 50%;\n",
              "      cursor: pointer;\n",
              "      display: none;\n",
              "      fill: #1967D2;\n",
              "      height: 32px;\n",
              "      padding: 0 0 0 0;\n",
              "      width: 32px;\n",
              "    }\n",
              "\n",
              "    .colab-df-convert:hover {\n",
              "      background-color: #E2EBFA;\n",
              "      box-shadow: 0px 1px 2px rgba(60, 64, 67, 0.3), 0px 1px 3px 1px rgba(60, 64, 67, 0.15);\n",
              "      fill: #174EA6;\n",
              "    }\n",
              "\n",
              "    [theme=dark] .colab-df-convert {\n",
              "      background-color: #3B4455;\n",
              "      fill: #D2E3FC;\n",
              "    }\n",
              "\n",
              "    [theme=dark] .colab-df-convert:hover {\n",
              "      background-color: #434B5C;\n",
              "      box-shadow: 0px 1px 3px 1px rgba(0, 0, 0, 0.15);\n",
              "      filter: drop-shadow(0px 1px 2px rgba(0, 0, 0, 0.3));\n",
              "      fill: #FFFFFF;\n",
              "    }\n",
              "  </style>\n",
              "\n",
              "      <script>\n",
              "        const buttonEl =\n",
              "          document.querySelector('#df-041db741-8039-4f64-9f46-4d0d39652160 button.colab-df-convert');\n",
              "        buttonEl.style.display =\n",
              "          google.colab.kernel.accessAllowed ? 'block' : 'none';\n",
              "\n",
              "        async function convertToInteractive(key) {\n",
              "          const element = document.querySelector('#df-041db741-8039-4f64-9f46-4d0d39652160');\n",
              "          const dataTable =\n",
              "            await google.colab.kernel.invokeFunction('convertToInteractive',\n",
              "                                                     [key], {});\n",
              "          if (!dataTable) return;\n",
              "\n",
              "          const docLinkHtml = 'Like what you see? Visit the ' +\n",
              "            '<a target=\"_blank\" href=https://colab.research.google.com/notebooks/data_table.ipynb>data table notebook</a>'\n",
              "            + ' to learn more about interactive tables.';\n",
              "          element.innerHTML = '';\n",
              "          dataTable['output_type'] = 'display_data';\n",
              "          await google.colab.output.renderOutput(dataTable, element);\n",
              "          const docLink = document.createElement('div');\n",
              "          docLink.innerHTML = docLinkHtml;\n",
              "          element.appendChild(docLink);\n",
              "        }\n",
              "      </script>\n",
              "    </div>\n",
              "  </div>\n",
              "  "
            ]
          },
          "metadata": {},
          "execution_count": 3
        }
      ]
    },
    {
      "cell_type": "code",
      "source": [
        "housedata.info()"
      ],
      "metadata": {
        "colab": {
          "base_uri": "https://localhost:8080/"
        },
        "id": "_GGY0tsxDM5a",
        "outputId": "2e25454f-3bcf-4147-c9e6-900831180f87"
      },
      "execution_count": null,
      "outputs": [
        {
          "output_type": "stream",
          "name": "stdout",
          "text": [
            "<class 'pandas.core.frame.DataFrame'>\n",
            "RangeIndex: 21613 entries, 0 to 21612\n",
            "Data columns (total 21 columns):\n",
            " #   Column         Non-Null Count  Dtype  \n",
            "---  ------         --------------  -----  \n",
            " 0   ID             21613 non-null  int64  \n",
            " 1   Date           21613 non-null  object \n",
            " 2   Price          21613 non-null  float64\n",
            " 3   Bedrooms       21613 non-null  int64  \n",
            " 4   Bathrooms      21613 non-null  float64\n",
            " 5   Sqft_living    21613 non-null  int64  \n",
            " 6   Sqft_lot       21613 non-null  int64  \n",
            " 7   Floors         21613 non-null  float64\n",
            " 8   Waterfront     21613 non-null  int64  \n",
            " 9   View           21613 non-null  int64  \n",
            " 10  Condition      21613 non-null  int64  \n",
            " 11  Grade          21613 non-null  int64  \n",
            " 12  Sqft_above     21613 non-null  int64  \n",
            " 13  Sqft_basement  21613 non-null  int64  \n",
            " 14  Yr_built       21613 non-null  int64  \n",
            " 15  Yr_renovated   21613 non-null  int64  \n",
            " 16  zipcode        21613 non-null  int64  \n",
            " 17  Lat            21613 non-null  float64\n",
            " 18  Long           21613 non-null  float64\n",
            " 19  Sqft_living15  21613 non-null  int64  \n",
            " 20  Sqft_lot15     21613 non-null  int64  \n",
            "dtypes: float64(5), int64(15), object(1)\n",
            "memory usage: 3.5+ MB\n"
          ]
        }
      ]
    },
    {
      "cell_type": "code",
      "source": [
        "housedata.columns"
      ],
      "metadata": {
        "colab": {
          "base_uri": "https://localhost:8080/"
        },
        "id": "Hmj1XZa8DRwU",
        "outputId": "f0e36ea7-173d-4757-d470-6694de9b57e7"
      },
      "execution_count": null,
      "outputs": [
        {
          "output_type": "execute_result",
          "data": {
            "text/plain": [
              "Index(['ID', 'Date', 'Price', 'Bedrooms', 'Bathrooms', 'Sqft_living',\n",
              "       'Sqft_lot', 'Floors', 'Waterfront', 'View', 'Condition', 'Grade',\n",
              "       'Sqft_above', 'Sqft_basement', 'Yr_built', 'Yr_renovated', 'zipcode',\n",
              "       'Lat', 'Long', 'Sqft_living15', 'Sqft_lot15'],\n",
              "      dtype='object')"
            ]
          },
          "metadata": {},
          "execution_count": 5
        }
      ]
    },
    {
      "cell_type": "code",
      "source": [
        "y= housedata['Price']"
      ],
      "metadata": {
        "id": "ViTsakbWDV_j"
      },
      "execution_count": null,
      "outputs": []
    },
    {
      "cell_type": "code",
      "source": [
        "X= housedata[['Bedrooms', 'Sqft_living',\n",
        "       'Sqft_lot']]"
      ],
      "metadata": {
        "id": "Q3Hp21M5DbeX"
      },
      "execution_count": null,
      "outputs": []
    },
    {
      "cell_type": "code",
      "source": [
        "X.shape"
      ],
      "metadata": {
        "colab": {
          "base_uri": "https://localhost:8080/"
        },
        "id": "wt2p1hKIEpA5",
        "outputId": "f9a76cc5-5897-4eb5-8964-110855491ff5"
      },
      "execution_count": null,
      "outputs": [
        {
          "output_type": "execute_result",
          "data": {
            "text/plain": [
              "(21613, 3)"
            ]
          },
          "metadata": {},
          "execution_count": 47
        }
      ]
    },
    {
      "cell_type": "code",
      "source": [
        "import seaborn as sns"
      ],
      "metadata": {
        "id": "wmDvQSRlEqH1"
      },
      "execution_count": null,
      "outputs": []
    },
    {
      "cell_type": "code",
      "source": [
        "sns.regplot(x= 'Sqft_living', y= 'Price', data= housedata)"
      ],
      "metadata": {
        "colab": {
          "base_uri": "https://localhost:8080/",
          "height": 308
        },
        "id": "tpgw81tiFM1v",
        "outputId": "49820aef-f99f-47d1-ab39-30b22313be6e"
      },
      "execution_count": null,
      "outputs": [
        {
          "output_type": "execute_result",
          "data": {
            "text/plain": [
              "<matplotlib.axes._subplots.AxesSubplot at 0x7f04b396ef90>"
            ]
          },
          "metadata": {},
          "execution_count": 49
        },
        {
          "output_type": "display_data",
          "data": {
            "text/plain": [
              "<Figure size 432x288 with 1 Axes>"
            ],
            "image/png": "[encoded data removed]"
          },
          "metadata": {
            "needs_background": "light"
          }
        }
      ]
    },
    {
      "cell_type": "code",
      "source": [
        "sns.regplot(x= 'Bedrooms', y= 'Price', data= housedata)"
      ],
      "metadata": {
        "colab": {
          "base_uri": "https://localhost:8080/",
          "height": 307
        },
        "id": "P0eOPd0cFgay",
        "outputId": "3717dada-71d8-4672-e27a-696c1fa64702"
      },
      "execution_count": null,
      "outputs": [
        {
          "output_type": "execute_result",
          "data": {
            "text/plain": [
              "<matplotlib.axes._subplots.AxesSubplot at 0x7f04b3c05f10>"
            ]
          },
          "metadata": {},
          "execution_count": 50
        },
        {
          "output_type": "display_data",
          "data": {
            "text/plain": [
              "<Figure size 432x288 with 1 Axes>"
            ],
            "image/png": "[encoded data removed]"
          },
          "metadata": {
            "needs_background": "light"
          }
        }
      ]
    },
    {
      "cell_type": "code",
      "source": [
        "from sklearn.model_selection import train_test_split as tts"
      ],
      "metadata": {
        "id": "jxAajN1qFpOf"
      },
      "execution_count": null,
      "outputs": []
    },
    {
      "cell_type": "code",
      "source": [
        "X_train , X_test, y_train, y_test = tts(X, y ,train_size= 0.8, random_state=2529)"
      ],
      "metadata": {
        "id": "iNpklsL9POky"
      },
      "execution_count": null,
      "outputs": []
    },
    {
      "cell_type": "code",
      "source": [
        "from sklearn.preprocessing import MinMaxScaler"
      ],
      "metadata": {
        "id": "BX4XG7ZwPaE5"
      },
      "execution_count": null,
      "outputs": []
    },
    {
      "cell_type": "code",
      "source": [
        "mm = MinMaxScaler()"
      ],
      "metadata": {
        "id": "Zfd0lNLEPzdN"
      },
      "execution_count": null,
      "outputs": []
    },
    {
      "cell_type": "code",
      "source": [
        "X_train = mm.fit_transform(X_train)"
      ],
      "metadata": {
        "id": "xTn6g-_ZP3s1"
      },
      "execution_count": null,
      "outputs": []
    },
    {
      "cell_type": "code",
      "source": [
        "X_test = mm.fit_transform(X_test)"
      ],
      "metadata": {
        "id": "GzKn_VPHQIdq"
      },
      "execution_count": null,
      "outputs": []
    },
    {
      "cell_type": "code",
      "source": [
        "from sklearn.linear_model import LinearRegression"
      ],
      "metadata": {
        "id": "DpABboWSQNUQ"
      },
      "execution_count": null,
      "outputs": []
    },
    {
      "cell_type": "code",
      "source": [
        "lr = LinearRegression()"
      ],
      "metadata": {
        "id": "5ZZ7-iY6QbRu"
      },
      "execution_count": null,
      "outputs": []
    },
    {
      "cell_type": "code",
      "source": [
        "lr.fit(X_train, y_train)"
      ],
      "metadata": {
        "colab": {
          "base_uri": "https://localhost:8080/"
        },
        "id": "mr3AAac_QdJK",
        "outputId": "d6605c56-d216-40d1-fc62-d874ccdcdcab"
      },
      "execution_count": null,
      "outputs": [
        {
          "output_type": "execute_result",
          "data": {
            "text/plain": [
              "LinearRegression()"
            ]
          },
          "metadata": {},
          "execution_count": 59
        }
      ]
    },
    {
      "cell_type": "code",
      "source": [
        "X.columns"
      ],
      "metadata": {
        "colab": {
          "base_uri": "https://localhost:8080/"
        },
        "id": "SLmxT7F8Ql2Z",
        "outputId": "df5c891f-f1ca-49e8-bebf-6b05f2d844e8"
      },
      "execution_count": null,
      "outputs": [
        {
          "output_type": "execute_result",
          "data": {
            "text/plain": [
              "Index(['Bedrooms', 'Sqft_living', 'Sqft_lot'], dtype='object')"
            ]
          },
          "metadata": {},
          "execution_count": 60
        }
      ]
    },
    {
      "cell_type": "code",
      "source": [
        "lr.coef_"
      ],
      "metadata": {
        "colab": {
          "base_uri": "https://localhost:8080/"
        },
        "id": "gcvmRn3EQn5k",
        "outputId": "b1deb0cf-f09d-4729-fa22-e2a2105b5d2f"
      },
      "execution_count": null,
      "outputs": [
        {
          "output_type": "execute_result",
          "data": {
            "text/plain": [
              "array([-1821094.2156211 ,  4117038.95103014,  -606029.61370199])"
            ]
          },
          "metadata": {},
          "execution_count": 61
        }
      ]
    },
    {
      "cell_type": "code",
      "source": [
        "lr.intercept_"
      ],
      "metadata": {
        "colab": {
          "base_uri": "https://localhost:8080/"
        },
        "id": "oWsWVar_QqCe",
        "outputId": "6f92f2e4-0591-4882-9771-947071f031ef"
      },
      "execution_count": null,
      "outputs": [
        {
          "output_type": "execute_result",
          "data": {
            "text/plain": [
              "174127.10539507907"
            ]
          },
          "metadata": {},
          "execution_count": 62
        }
      ]
    },
    {
      "cell_type": "code",
      "source": [
        "y_pred= lr.predict(X_test)"
      ],
      "metadata": {
        "id": "oBRMIo_wQrMd"
      },
      "execution_count": null,
      "outputs": []
    },
    {
      "cell_type": "code",
      "source": [
        "y_pred.shape"
      ],
      "metadata": {
        "colab": {
          "base_uri": "https://localhost:8080/"
        },
        "id": "QVxr-CwKRV2m",
        "outputId": "b9932039-9617-49ea-f678-478c6d92ec95"
      },
      "execution_count": null,
      "outputs": [
        {
          "output_type": "execute_result",
          "data": {
            "text/plain": [
              "(4323,)"
            ]
          },
          "metadata": {},
          "execution_count": 64
        }
      ]
    },
    {
      "cell_type": "code",
      "source": [
        "y_pred"
      ],
      "metadata": {
        "colab": {
          "base_uri": "https://localhost:8080/"
        },
        "id": "tPi9wd0nRdeX",
        "outputId": "15e05e48-ec68-41cd-9e85-e281558e01d3"
      },
      "execution_count": null,
      "outputs": [
        {
          "output_type": "execute_result",
          "data": {
            "text/plain": [
              "array([ -43773.71739068, -166119.95890767,  -63272.05381324, ...,\n",
              "        224549.09160977,  244403.79034394,  112564.74473043])"
            ]
          },
          "metadata": {},
          "execution_count": 65
        }
      ]
    },
    {
      "cell_type": "code",
      "source": [
        "y_test"
      ],
      "metadata": {
        "colab": {
          "base_uri": "https://localhost:8080/"
        },
        "id": "6NOTWKYYRhpW",
        "outputId": "e39d4830-e8d7-48b9-f067-8076d0eba83f"
      },
      "execution_count": null,
      "outputs": [
        {
          "output_type": "execute_result",
          "data": {
            "text/plain": [
              "6457     325000.0\n",
              "15556    207000.0\n",
              "5595     473000.0\n",
              "2476     370000.0\n",
              "13548    359000.0\n",
              "           ...   \n",
              "2036     760000.0\n",
              "9517     230000.0\n",
              "13812    500000.0\n",
              "18902    324950.0\n",
              "10472    255500.0\n",
              "Name: Price, Length: 4323, dtype: float64"
            ]
          },
          "metadata": {},
          "execution_count": 66
        }
      ]
    },
    {
      "cell_type": "code",
      "source": [
        "import statsmodels.api as sm\n",
        "X = sm.add_constant(X)\n",
        "model = sm.OLS(y,X)\n",
        "results = model.fit()\n",
        "print(results.summary())"
      ],
      "metadata": {
        "colab": {
          "base_uri": "https://localhost:8080/"
        },
        "id": "2_kLb8ufRpcf",
        "outputId": "5ae4ad8a-df1d-4ad4-9e23-c31190799c24"
      },
      "execution_count": null,
      "outputs": [
        {
          "output_type": "stream",
          "name": "stdout",
          "text": [
            "                            OLS Regression Results                            \n",
            "==============================================================================\n",
            "Dep. Variable:                  Price   R-squared:                       0.509\n",
            "Model:                            OLS   Adj. R-squared:                  0.509\n",
            "Method:                 Least Squares   F-statistic:                     7455.\n",
            "Date:                Thu, 28 Jul 2022   Prob (F-statistic):               0.00\n",
            "Time:                        10:18:32   Log-Likelihood:            -2.9994e+05\n",
            "No. Observations:               21613   AIC:                         5.999e+05\n",
            "Df Residuals:                   21609   BIC:                         5.999e+05\n",
            "Df Model:                           3                                         \n",
            "Covariance Type:            nonrobust                                         \n",
            "===============================================================================\n",
            "                  coef    std err          t      P>|t|      [0.025      0.975]\n",
            "-------------------------------------------------------------------------------\n",
            "const         8.26e+04   6607.620     12.500      0.000    6.96e+04    9.55e+04\n",
            "Bedrooms    -5.885e+04   2313.790    -25.433      0.000   -6.34e+04   -5.43e+04\n",
            "Sqft_living   318.1493      2.378    133.807      0.000     313.489     322.810\n",
            "Sqft_lot       -0.3821      0.043     -8.868      0.000      -0.467      -0.298\n",
            "==============================================================================\n",
            "Omnibus:                    14323.294   Durbin-Watson:                   1.067\n",
            "Prob(Omnibus):                  0.000   Jarque-Bera (JB):           478827.974\n",
            "Skew:                           2.711   Prob(JB):                         0.00\n",
            "Kurtosis:                      25.412   Cond. No.                     1.72e+05\n",
            "==============================================================================\n",
            "\n",
            "Warnings:\n",
            "[1] Standard Errors assume that the covariance matrix of the errors is correctly specified.\n",
            "[2] The condition number is large, 1.72e+05. This might indicate that there are\n",
            "strong multicollinearity or other numerical problems.\n"
          ]
        },
        {
          "output_type": "stream",
          "name": "stderr",
          "text": [
            "/usr/local/lib/python3.7/dist-packages/statsmodels/tsa/tsatools.py:117: FutureWarning: In a future version of pandas all arguments of concat except for the argument 'objs' will be keyword-only\n",
            "  x = pd.concat(x[::order], 1)\n"
          ]
        }
      ]
    },
    {
      "cell_type": "code",
      "source": [
        ""
      ],
      "metadata": {
        "id": "5UtldX1KSSxY"
      },
      "execution_count": null,
      "outputs": []
    }
  ]
}